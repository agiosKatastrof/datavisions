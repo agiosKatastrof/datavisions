{
 "cells": [
  {
   "cell_type": "code",
   "execution_count": null,
   "metadata": {},
   "outputs": [],
   "source": [
    "# %load init.py\n",
    "import pandas as pd\n",
    "import numpy as np\n",
    "import matplotlib.pyplot as plt\n",
    "df = pd.read_csv('../data/complaints.csv')"
   ]
  },
  {
   "cell_type": "code",
   "execution_count": null,
   "metadata": {},
   "outputs": [],
   "source": [
    "# %load date.py\n",
    "df['Date'] = pd.to_datetime(df['Date received'],infer_datetime_format=True)\n",
    "df_grouped = df.groupby('Company').count()[['Complaint ID']]\n",
    "df_issues_dates = df.groupby('Date').count()[['Complaint ID']]\n",
    "df_issues_dates = df_issues_dates.reset_index()\n",
    "df_issues_dates = df_issues_dates.rename(columns={'Complaint ID':\"Issue Counts\"})"
   ]
  },
  {
   "cell_type": "code",
   "execution_count": null,
   "metadata": {},
   "outputs": [],
   "source": [
    "# %load top20.py\n",
    "dfT20 = df_grouped.sort_values('Complaint ID', ascending=False).head(20)\n",
    "dfT20.insert(loc=1, column='Top 20', value=np.arange(len(dfT20)) +1)\n",
    "dfT20.rename(columns={'Complaint ID':\"Issue Counts\"})\n",
    "dfT20 = dfT20.reset_index()\n",
    "dfAT20 = df.loc[df['Company'].isin(dfT20['Company'])] #reduce original data to T20\n"
   ]
  },
  {
   "cell_type": "code",
   "execution_count": null,
   "metadata": {},
   "outputs": [],
   "source": [
    "# %load pickCompany.py\n",
    "def pickCompany(company,df):\n",
    "    dfC = df.loc[df['Company'] == company]\n",
    "    dfC_dates = dfC.groupby('Date').count()[['Complaint ID']]\n",
    "    dfC_dates = dfC_dates.reset_index()\n",
    "    dfC_dates = dfC_dates.rename(columns={'Complaint ID':company}) \n",
    "    return dfC_dates\n"
   ]
  },
  {
   "cell_type": "code",
   "execution_count": 25,
   "metadata": {},
   "outputs": [
    {
     "name": "stdout",
     "output_type": "stream",
     "text": [
      "Overwriting mergeCompanies.py\n"
     ]
    }
   ],
   "source": [
    "%load mergeCompanies.py\n",
    "def mergeCompanies(dfT,n,df):\n",
    "    columns = ['Date']\n",
    "    dfm = pd.DataFrame(columns=columns)\n",
    "    i=0\n",
    "    while i<n:\n",
    "        df1 = pickCompany(dfT['Company'][i], df)\n",
    "        dfm = pd.merge(dfm, df1, on='Date', how='outer')\n",
    "        i += 1\n",
    "    dfm = dfm.fillna(0)\n",
    "    return dfm  "
   ]
  },
  {
   "cell_type": "code",
   "execution_count": 26,
   "metadata": {},
   "outputs": [],
   "source": [
    "\n",
    "nCompanies=20\n",
    "dfm = mergeCompanies(dfT20,nCompanies,df)\n",
    "dfm_reduced = dfm.drop(columns=['EQUIFAX, INC.','Navient Solutions, LLC.'])"
   ]
  }
 ],
 "metadata": {
  "kernelspec": {
   "display_name": "Python 3",
   "language": "python",
   "name": "python3"
  },
  "language_info": {
   "codemirror_mode": {
    "name": "ipython",
    "version": 3
   },
   "file_extension": ".py",
   "mimetype": "text/x-python",
   "name": "python",
   "nbconvert_exporter": "python",
   "pygments_lexer": "ipython3",
   "version": "3.7.4"
  }
 },
 "nbformat": 4,
 "nbformat_minor": 2
}
