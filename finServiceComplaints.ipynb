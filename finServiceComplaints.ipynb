{
 "cells": [
  {
   "cell_type": "code",
   "execution_count": 22,
   "metadata": {},
   "outputs": [],
   "source": [
    "import pandas as pd\n",
    "import numpy as np\n",
    "import matplotlib.pyplot as plt"
   ]
  },
  {
   "cell_type": "code",
   "execution_count": null,
   "metadata": {},
   "outputs": [],
   "source": [
    "df = pd.read_csv('../data/complaints.csv')"
   ]
  },
  {
   "cell_type": "code",
   "execution_count": null,
   "metadata": {},
   "outputs": [],
   "source": [
    "df.info()"
   ]
  },
  {
   "cell_type": "code",
   "execution_count": null,
   "metadata": {},
   "outputs": [],
   "source": [
    "df.head()"
   ]
  },
  {
   "cell_type": "code",
   "execution_count": null,
   "metadata": {},
   "outputs": [],
   "source": [
    "df.count()"
   ]
  },
  {
   "cell_type": "code",
   "execution_count": null,
   "metadata": {},
   "outputs": [],
   "source": [
    "df['Date'] = pd.to_datetime(df['Date received'],infer_datetime_format=True)\n",
    "print(df['Date'].min())\n",
    "print(df['Date'].max())\n",
    "df.info()"
   ]
  },
  {
   "cell_type": "code",
   "execution_count": null,
   "metadata": {},
   "outputs": [],
   "source": [
    "df_grouped = df.groupby('Company').count()[['Complaint ID']]"
   ]
  },
  {
   "cell_type": "code",
   "execution_count": null,
   "metadata": {},
   "outputs": [],
   "source": [
    "dfT20 = df_grouped.sort_values('Complaint ID', ascending=False).head(20)"
   ]
  },
  {
   "cell_type": "code",
   "execution_count": null,
   "metadata": {},
   "outputs": [],
   "source": [
    "dfT20.insert(loc=1, column='Top 20', value=np.arange(len(dfT20)) +1)\n",
    "dfT20.rename(columns={'Complaint ID':\"Issue Counts\"})"
   ]
  },
  {
   "cell_type": "code",
   "execution_count": null,
   "metadata": {},
   "outputs": [],
   "source": [
    "df_issues_dates = df.groupby('Date').count()[['Complaint ID']]\n",
    "df_issues_dates.info()"
   ]
  },
  {
   "cell_type": "code",
   "execution_count": null,
   "metadata": {},
   "outputs": [],
   "source": [
    "df_issues_dates = df_issues_dates.reset_index()\n",
    "df_issues_dates.info()"
   ]
  },
  {
   "cell_type": "code",
   "execution_count": null,
   "metadata": {},
   "outputs": [],
   "source": [
    "df_issues_dates = df_issues_dates.rename(columns={'Complaint ID':\"Issue Counts\"})"
   ]
  },
  {
   "cell_type": "code",
   "execution_count": null,
   "metadata": {},
   "outputs": [],
   "source": [
    "fig = plt.gcf()\n",
    "fig.set_size_inches(6, 6)\n",
    "ax = plt.gca()\n",
    "df_issues_dates.plot(kind='line',x='Date',y='Issue Counts',ax=ax)"
   ]
  },
  {
   "cell_type": "code",
   "execution_count": null,
   "metadata": {},
   "outputs": [],
   "source": [
    "dfT20 = dfT20.reset_index()\n",
    "dfT20.info()"
   ]
  },
  {
   "cell_type": "code",
   "execution_count": null,
   "metadata": {},
   "outputs": [],
   "source": [
    "dfAT20 = df.loc[df['Company'].isin(dfT20['Company'])] #reduce original data to T20"
   ]
  },
  {
   "cell_type": "code",
   "execution_count": null,
   "metadata": {},
   "outputs": [],
   "source": [
    "def pickCompany(company,df):\n",
    "    dfC = df.loc[df['Company'] == company]\n",
    "    dfC_dates = dfC.groupby('Date').count()[['Complaint ID']]\n",
    "    dfC_dates = dfC_dates.reset_index()\n",
    "    dfC_dates = dfC_dates.rename(columns={'Complaint ID':company}) \n",
    "    return dfC_dates"
   ]
  },
  {
   "cell_type": "code",
   "execution_count": null,
   "metadata": {},
   "outputs": [],
   "source": [
    "def mergeCompanies(dfT,n,df):\n",
    "    columns = ['Date']\n",
    "    dfm = pd.DataFrame(columns=columns)\n",
    "    i=0\n",
    "    while i<n:\n",
    "        df1 = pickCompany(dfT['Company'][i], df)\n",
    "        dfm = pd.merge(dfm, df1, on='Date', how='outer')\n",
    "        i += 1\n",
    "    dfm = dfm.fillna(0)\n",
    "    return dfm  "
   ]
  },
  {
   "cell_type": "code",
   "execution_count": null,
   "metadata": {},
   "outputs": [],
   "source": [
    "nCompanies=20\n",
    "dfm = mergeCompanies(dfT20,nCompanies,df)\n",
    "dfm"
   ]
  },
  {
   "cell_type": "code",
   "execution_count": null,
   "metadata": {},
   "outputs": [],
   "source": [
    "cols = list(dfm.columns)\n",
    "columns = []\n",
    "colLabels = []\n",
    "\n",
    "fig = plt.gcf()\n",
    "fig.set_size_inches(10,10) \n",
    "\n",
    "i=1\n",
    "while i<=nCompanies:\n",
    "    colLabels.append(cols[i])\n",
    "    columns.append(dfm[cols[i]])\n",
    "    plt.plot(dfm['Date'],dfm[cols[i]],label=cols[i])\n",
    "    i += 1\n",
    "    \n",
    "plt.legend()"
   ]
  },
  {
   "cell_type": "code",
   "execution_count": null,
   "metadata": {},
   "outputs": [],
   "source": [
    "fig = plt.gcf()\n",
    "fig.set_size_inches(10,10) \n",
    "plt.stackplot(dfm['Date'],columns,labels=colLabels)\n",
    "plt.legend(loc='upper left')"
   ]
  }
 ],
 "metadata": {
  "kernelspec": {
   "display_name": "Python 3",
   "language": "python",
   "name": "python3"
  },
  "language_info": {
   "codemirror_mode": {
    "name": "ipython",
    "version": 3
   },
   "file_extension": ".py",
   "mimetype": "text/x-python",
   "name": "python",
   "nbconvert_exporter": "python",
   "pygments_lexer": "ipython3",
   "version": "3.7.4"
  }
 },
 "nbformat": 4,
 "nbformat_minor": 2
}
