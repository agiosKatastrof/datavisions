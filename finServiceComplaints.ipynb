{
 "cells": [
  {
   "cell_type": "code",
   "execution_count": 1,
   "metadata": {},
   "outputs": [],
   "source": [
    "import pandas as pd\n",
    "import numpy as np\n",
    "import matplotlib.pyplot as plt"
   ]
  },
  {
   "cell_type": "code",
   "execution_count": 2,
   "metadata": {},
   "outputs": [],
   "source": [
    "df = pd.read_csv('../data/complaints.csv')"
   ]
  },
  {
   "cell_type": "code",
   "execution_count": 3,
   "metadata": {},
   "outputs": [
    {
     "name": "stdout",
     "output_type": "stream",
     "text": [
      "<class 'pandas.core.frame.DataFrame'>\n",
      "RangeIndex: 1517620 entries, 0 to 1517619\n",
      "Data columns (total 18 columns):\n",
      "Date received                   1517620 non-null object\n",
      "Product                         1517620 non-null object\n",
      "Sub-product                     1282455 non-null object\n",
      "Issue                           1517620 non-null object\n",
      "Sub-issue                       957685 non-null object\n",
      "Consumer complaint narrative    499118 non-null object\n",
      "Company public response         572138 non-null object\n",
      "Company                         1517620 non-null object\n",
      "State                           1492059 non-null object\n",
      "ZIP code                        1374900 non-null object\n",
      "Tags                            206318 non-null object\n",
      "Consumer consent provided?      898083 non-null object\n",
      "Submitted via                   1517620 non-null object\n",
      "Date sent to company            1517620 non-null object\n",
      "Company response to consumer    1517619 non-null object\n",
      "Timely response?                1517620 non-null object\n",
      "Consumer disputed?              768479 non-null object\n",
      "Complaint ID                    1517620 non-null int64\n",
      "dtypes: int64(1), object(17)\n",
      "memory usage: 208.4+ MB\n"
     ]
    }
   ],
   "source": [
    "df.info()"
   ]
  },
  {
   "cell_type": "code",
   "execution_count": 4,
   "metadata": {},
   "outputs": [
    {
     "data": {
      "text/html": [
       "<div>\n",
       "<style scoped>\n",
       "    .dataframe tbody tr th:only-of-type {\n",
       "        vertical-align: middle;\n",
       "    }\n",
       "\n",
       "    .dataframe tbody tr th {\n",
       "        vertical-align: top;\n",
       "    }\n",
       "\n",
       "    .dataframe thead th {\n",
       "        text-align: right;\n",
       "    }\n",
       "</style>\n",
       "<table border=\"1\" class=\"dataframe\">\n",
       "  <thead>\n",
       "    <tr style=\"text-align: right;\">\n",
       "      <th></th>\n",
       "      <th>Date received</th>\n",
       "      <th>Product</th>\n",
       "      <th>Sub-product</th>\n",
       "      <th>Issue</th>\n",
       "      <th>Sub-issue</th>\n",
       "      <th>Consumer complaint narrative</th>\n",
       "      <th>Company public response</th>\n",
       "      <th>Company</th>\n",
       "      <th>State</th>\n",
       "      <th>ZIP code</th>\n",
       "      <th>Tags</th>\n",
       "      <th>Consumer consent provided?</th>\n",
       "      <th>Submitted via</th>\n",
       "      <th>Date sent to company</th>\n",
       "      <th>Company response to consumer</th>\n",
       "      <th>Timely response?</th>\n",
       "      <th>Consumer disputed?</th>\n",
       "      <th>Complaint ID</th>\n",
       "    </tr>\n",
       "  </thead>\n",
       "  <tbody>\n",
       "    <tr>\n",
       "      <td>0</td>\n",
       "      <td>2019-09-24</td>\n",
       "      <td>Debt collection</td>\n",
       "      <td>I do not know</td>\n",
       "      <td>Attempts to collect debt not owed</td>\n",
       "      <td>Debt is not yours</td>\n",
       "      <td>transworld systems inc. \\nis trying to collect...</td>\n",
       "      <td>NaN</td>\n",
       "      <td>TRANSWORLD SYSTEMS INC</td>\n",
       "      <td>FL</td>\n",
       "      <td>335XX</td>\n",
       "      <td>NaN</td>\n",
       "      <td>Consent provided</td>\n",
       "      <td>Web</td>\n",
       "      <td>2019-09-24</td>\n",
       "      <td>Closed with explanation</td>\n",
       "      <td>Yes</td>\n",
       "      <td>NaN</td>\n",
       "      <td>3384392</td>\n",
       "    </tr>\n",
       "    <tr>\n",
       "      <td>1</td>\n",
       "      <td>2019-09-19</td>\n",
       "      <td>Credit reporting, credit repair services, or o...</td>\n",
       "      <td>Credit reporting</td>\n",
       "      <td>Incorrect information on your report</td>\n",
       "      <td>Information belongs to someone else</td>\n",
       "      <td>NaN</td>\n",
       "      <td>Company has responded to the consumer and the ...</td>\n",
       "      <td>Experian Information Solutions Inc.</td>\n",
       "      <td>PA</td>\n",
       "      <td>15206</td>\n",
       "      <td>NaN</td>\n",
       "      <td>Consent not provided</td>\n",
       "      <td>Web</td>\n",
       "      <td>2019-09-20</td>\n",
       "      <td>Closed with non-monetary relief</td>\n",
       "      <td>Yes</td>\n",
       "      <td>NaN</td>\n",
       "      <td>3379500</td>\n",
       "    </tr>\n",
       "    <tr>\n",
       "      <td>2</td>\n",
       "      <td>2019-10-25</td>\n",
       "      <td>Credit reporting, credit repair services, or o...</td>\n",
       "      <td>Credit reporting</td>\n",
       "      <td>Incorrect information on your report</td>\n",
       "      <td>Information belongs to someone else</td>\n",
       "      <td>I would like to request the suppression of the...</td>\n",
       "      <td>Company has responded to the consumer and the ...</td>\n",
       "      <td>TRANSUNION INTERMEDIATE HOLDINGS, INC.</td>\n",
       "      <td>CA</td>\n",
       "      <td>937XX</td>\n",
       "      <td>NaN</td>\n",
       "      <td>Consent provided</td>\n",
       "      <td>Web</td>\n",
       "      <td>2019-10-25</td>\n",
       "      <td>Closed with explanation</td>\n",
       "      <td>Yes</td>\n",
       "      <td>NaN</td>\n",
       "      <td>3417821</td>\n",
       "    </tr>\n",
       "    <tr>\n",
       "      <td>3</td>\n",
       "      <td>2019-11-08</td>\n",
       "      <td>Debt collection</td>\n",
       "      <td>I do not know</td>\n",
       "      <td>Communication tactics</td>\n",
       "      <td>Frequent or repeated calls</td>\n",
       "      <td>Over the past 2 weeks, I have been receiving e...</td>\n",
       "      <td>NaN</td>\n",
       "      <td>Diversified Consultants, Inc.</td>\n",
       "      <td>NC</td>\n",
       "      <td>275XX</td>\n",
       "      <td>NaN</td>\n",
       "      <td>Consent provided</td>\n",
       "      <td>Web</td>\n",
       "      <td>2019-11-08</td>\n",
       "      <td>Closed with explanation</td>\n",
       "      <td>Yes</td>\n",
       "      <td>NaN</td>\n",
       "      <td>3433198</td>\n",
       "    </tr>\n",
       "    <tr>\n",
       "      <td>4</td>\n",
       "      <td>2019-02-08</td>\n",
       "      <td>Vehicle loan or lease</td>\n",
       "      <td>Lease</td>\n",
       "      <td>Problem with a credit reporting company's inve...</td>\n",
       "      <td>Their investigation did not fix an error on yo...</td>\n",
       "      <td>NaN</td>\n",
       "      <td>NaN</td>\n",
       "      <td>HYUNDAI CAPITAL AMERICA</td>\n",
       "      <td>FL</td>\n",
       "      <td>33161</td>\n",
       "      <td>NaN</td>\n",
       "      <td>Consent not provided</td>\n",
       "      <td>Web</td>\n",
       "      <td>2019-02-08</td>\n",
       "      <td>Closed with non-monetary relief</td>\n",
       "      <td>Yes</td>\n",
       "      <td>NaN</td>\n",
       "      <td>3146310</td>\n",
       "    </tr>\n",
       "  </tbody>\n",
       "</table>\n",
       "</div>"
      ],
      "text/plain": [
       "  Date received                                            Product  \\\n",
       "0    2019-09-24                                    Debt collection   \n",
       "1    2019-09-19  Credit reporting, credit repair services, or o...   \n",
       "2    2019-10-25  Credit reporting, credit repair services, or o...   \n",
       "3    2019-11-08                                    Debt collection   \n",
       "4    2019-02-08                              Vehicle loan or lease   \n",
       "\n",
       "        Sub-product                                              Issue  \\\n",
       "0     I do not know                  Attempts to collect debt not owed   \n",
       "1  Credit reporting               Incorrect information on your report   \n",
       "2  Credit reporting               Incorrect information on your report   \n",
       "3     I do not know                              Communication tactics   \n",
       "4             Lease  Problem with a credit reporting company's inve...   \n",
       "\n",
       "                                           Sub-issue  \\\n",
       "0                                  Debt is not yours   \n",
       "1                Information belongs to someone else   \n",
       "2                Information belongs to someone else   \n",
       "3                         Frequent or repeated calls   \n",
       "4  Their investigation did not fix an error on yo...   \n",
       "\n",
       "                        Consumer complaint narrative  \\\n",
       "0  transworld systems inc. \\nis trying to collect...   \n",
       "1                                                NaN   \n",
       "2  I would like to request the suppression of the...   \n",
       "3  Over the past 2 weeks, I have been receiving e...   \n",
       "4                                                NaN   \n",
       "\n",
       "                             Company public response  \\\n",
       "0                                                NaN   \n",
       "1  Company has responded to the consumer and the ...   \n",
       "2  Company has responded to the consumer and the ...   \n",
       "3                                                NaN   \n",
       "4                                                NaN   \n",
       "\n",
       "                                  Company State ZIP code Tags  \\\n",
       "0                  TRANSWORLD SYSTEMS INC    FL    335XX  NaN   \n",
       "1     Experian Information Solutions Inc.    PA    15206  NaN   \n",
       "2  TRANSUNION INTERMEDIATE HOLDINGS, INC.    CA    937XX  NaN   \n",
       "3           Diversified Consultants, Inc.    NC    275XX  NaN   \n",
       "4                 HYUNDAI CAPITAL AMERICA    FL    33161  NaN   \n",
       "\n",
       "  Consumer consent provided? Submitted via Date sent to company  \\\n",
       "0           Consent provided           Web           2019-09-24   \n",
       "1       Consent not provided           Web           2019-09-20   \n",
       "2           Consent provided           Web           2019-10-25   \n",
       "3           Consent provided           Web           2019-11-08   \n",
       "4       Consent not provided           Web           2019-02-08   \n",
       "\n",
       "      Company response to consumer Timely response? Consumer disputed?  \\\n",
       "0          Closed with explanation              Yes                NaN   \n",
       "1  Closed with non-monetary relief              Yes                NaN   \n",
       "2          Closed with explanation              Yes                NaN   \n",
       "3          Closed with explanation              Yes                NaN   \n",
       "4  Closed with non-monetary relief              Yes                NaN   \n",
       "\n",
       "   Complaint ID  \n",
       "0       3384392  \n",
       "1       3379500  \n",
       "2       3417821  \n",
       "3       3433198  \n",
       "4       3146310  "
      ]
     },
     "execution_count": 4,
     "metadata": {},
     "output_type": "execute_result"
    }
   ],
   "source": [
    "df.head()"
   ]
  },
  {
   "cell_type": "code",
   "execution_count": 5,
   "metadata": {},
   "outputs": [
    {
     "data": {
      "text/plain": [
       "Date received                   1517620\n",
       "Product                         1517620\n",
       "Sub-product                     1282455\n",
       "Issue                           1517620\n",
       "Sub-issue                        957685\n",
       "Consumer complaint narrative     499118\n",
       "Company public response          572138\n",
       "Company                         1517620\n",
       "State                           1492059\n",
       "ZIP code                        1374900\n",
       "Tags                             206318\n",
       "Consumer consent provided?       898083\n",
       "Submitted via                   1517620\n",
       "Date sent to company            1517620\n",
       "Company response to consumer    1517619\n",
       "Timely response?                1517620\n",
       "Consumer disputed?               768479\n",
       "Complaint ID                    1517620\n",
       "dtype: int64"
      ]
     },
     "execution_count": 5,
     "metadata": {},
     "output_type": "execute_result"
    }
   ],
   "source": [
    "df.count()"
   ]
  },
  {
   "cell_type": "code",
   "execution_count": 6,
   "metadata": {},
   "outputs": [
    {
     "name": "stdout",
     "output_type": "stream",
     "text": [
      "2011-12-01 00:00:00\n",
      "2020-02-29 00:00:00\n",
      "<class 'pandas.core.frame.DataFrame'>\n",
      "RangeIndex: 1517620 entries, 0 to 1517619\n",
      "Data columns (total 19 columns):\n",
      "Date received                   1517620 non-null object\n",
      "Product                         1517620 non-null object\n",
      "Sub-product                     1282455 non-null object\n",
      "Issue                           1517620 non-null object\n",
      "Sub-issue                       957685 non-null object\n",
      "Consumer complaint narrative    499118 non-null object\n",
      "Company public response         572138 non-null object\n",
      "Company                         1517620 non-null object\n",
      "State                           1492059 non-null object\n",
      "ZIP code                        1374900 non-null object\n",
      "Tags                            206318 non-null object\n",
      "Consumer consent provided?      898083 non-null object\n",
      "Submitted via                   1517620 non-null object\n",
      "Date sent to company            1517620 non-null object\n",
      "Company response to consumer    1517619 non-null object\n",
      "Timely response?                1517620 non-null object\n",
      "Consumer disputed?              768479 non-null object\n",
      "Complaint ID                    1517620 non-null int64\n",
      "Date                            1517620 non-null datetime64[ns]\n",
      "dtypes: datetime64[ns](1), int64(1), object(17)\n",
      "memory usage: 220.0+ MB\n"
     ]
    }
   ],
   "source": [
    "df['Date'] = pd.to_datetime(df['Date received'],infer_datetime_format=True)\n",
    "print(df['Date'].min())\n",
    "print(df['Date'].max())\n",
    "df.info()"
   ]
  },
  {
   "cell_type": "code",
   "execution_count": 7,
   "metadata": {},
   "outputs": [],
   "source": [
    "df_grouped = df.groupby('Company').count()[['Complaint ID']]"
   ]
  },
  {
   "cell_type": "code",
   "execution_count": 8,
   "metadata": {},
   "outputs": [],
   "source": [
    "dfT20 = df_grouped.sort_values('Complaint ID', ascending=False).head(20)"
   ]
  },
  {
   "cell_type": "code",
   "execution_count": 9,
   "metadata": {},
   "outputs": [
    {
     "data": {
      "text/html": [
       "<div>\n",
       "<style scoped>\n",
       "    .dataframe tbody tr th:only-of-type {\n",
       "        vertical-align: middle;\n",
       "    }\n",
       "\n",
       "    .dataframe tbody tr th {\n",
       "        vertical-align: top;\n",
       "    }\n",
       "\n",
       "    .dataframe thead th {\n",
       "        text-align: right;\n",
       "    }\n",
       "</style>\n",
       "<table border=\"1\" class=\"dataframe\">\n",
       "  <thead>\n",
       "    <tr style=\"text-align: right;\">\n",
       "      <th></th>\n",
       "      <th>Issue Counts</th>\n",
       "      <th>Top 20</th>\n",
       "    </tr>\n",
       "    <tr>\n",
       "      <th>Company</th>\n",
       "      <th></th>\n",
       "      <th></th>\n",
       "    </tr>\n",
       "  </thead>\n",
       "  <tbody>\n",
       "    <tr>\n",
       "      <td>EQUIFAX, INC.</td>\n",
       "      <td>152828</td>\n",
       "      <td>1</td>\n",
       "    </tr>\n",
       "    <tr>\n",
       "      <td>Experian Information Solutions Inc.</td>\n",
       "      <td>135725</td>\n",
       "      <td>2</td>\n",
       "    </tr>\n",
       "    <tr>\n",
       "      <td>TRANSUNION INTERMEDIATE HOLDINGS, INC.</td>\n",
       "      <td>132287</td>\n",
       "      <td>3</td>\n",
       "    </tr>\n",
       "    <tr>\n",
       "      <td>BANK OF AMERICA, NATIONAL ASSOCIATION</td>\n",
       "      <td>88680</td>\n",
       "      <td>4</td>\n",
       "    </tr>\n",
       "    <tr>\n",
       "      <td>WELLS FARGO &amp; COMPANY</td>\n",
       "      <td>76625</td>\n",
       "      <td>5</td>\n",
       "    </tr>\n",
       "    <tr>\n",
       "      <td>JPMORGAN CHASE &amp; CO.</td>\n",
       "      <td>66665</td>\n",
       "      <td>6</td>\n",
       "    </tr>\n",
       "    <tr>\n",
       "      <td>CITIBANK, N.A.</td>\n",
       "      <td>54764</td>\n",
       "      <td>7</td>\n",
       "    </tr>\n",
       "    <tr>\n",
       "      <td>CAPITAL ONE FINANCIAL CORPORATION</td>\n",
       "      <td>41312</td>\n",
       "      <td>8</td>\n",
       "    </tr>\n",
       "    <tr>\n",
       "      <td>Navient Solutions, LLC.</td>\n",
       "      <td>31845</td>\n",
       "      <td>9</td>\n",
       "    </tr>\n",
       "    <tr>\n",
       "      <td>Ocwen Financial Corporation</td>\n",
       "      <td>29265</td>\n",
       "      <td>10</td>\n",
       "    </tr>\n",
       "    <tr>\n",
       "      <td>SYNCHRONY FINANCIAL</td>\n",
       "      <td>25582</td>\n",
       "      <td>11</td>\n",
       "    </tr>\n",
       "    <tr>\n",
       "      <td>NATIONSTAR MORTGAGE</td>\n",
       "      <td>21844</td>\n",
       "      <td>12</td>\n",
       "    </tr>\n",
       "    <tr>\n",
       "      <td>U.S. BANCORP</td>\n",
       "      <td>19226</td>\n",
       "      <td>13</td>\n",
       "    </tr>\n",
       "    <tr>\n",
       "      <td>AMERICAN EXPRESS COMPANY</td>\n",
       "      <td>15964</td>\n",
       "      <td>14</td>\n",
       "    </tr>\n",
       "    <tr>\n",
       "      <td>Ditech Financial LLC</td>\n",
       "      <td>14767</td>\n",
       "      <td>15</td>\n",
       "    </tr>\n",
       "    <tr>\n",
       "      <td>PNC Bank N.A.</td>\n",
       "      <td>12993</td>\n",
       "      <td>16</td>\n",
       "    </tr>\n",
       "    <tr>\n",
       "      <td>ENCORE CAPITAL GROUP INC.</td>\n",
       "      <td>12796</td>\n",
       "      <td>17</td>\n",
       "    </tr>\n",
       "    <tr>\n",
       "      <td>DISCOVER BANK</td>\n",
       "      <td>12156</td>\n",
       "      <td>18</td>\n",
       "    </tr>\n",
       "    <tr>\n",
       "      <td>PORTFOLIO RECOVERY ASSOCIATES INC</td>\n",
       "      <td>12148</td>\n",
       "      <td>19</td>\n",
       "    </tr>\n",
       "    <tr>\n",
       "      <td>TD BANK US HOLDING COMPANY</td>\n",
       "      <td>11275</td>\n",
       "      <td>20</td>\n",
       "    </tr>\n",
       "  </tbody>\n",
       "</table>\n",
       "</div>"
      ],
      "text/plain": [
       "                                        Issue Counts  Top 20\n",
       "Company                                                     \n",
       "EQUIFAX, INC.                                 152828       1\n",
       "Experian Information Solutions Inc.           135725       2\n",
       "TRANSUNION INTERMEDIATE HOLDINGS, INC.        132287       3\n",
       "BANK OF AMERICA, NATIONAL ASSOCIATION          88680       4\n",
       "WELLS FARGO & COMPANY                          76625       5\n",
       "JPMORGAN CHASE & CO.                           66665       6\n",
       "CITIBANK, N.A.                                 54764       7\n",
       "CAPITAL ONE FINANCIAL CORPORATION              41312       8\n",
       "Navient Solutions, LLC.                        31845       9\n",
       "Ocwen Financial Corporation                    29265      10\n",
       "SYNCHRONY FINANCIAL                            25582      11\n",
       "NATIONSTAR MORTGAGE                            21844      12\n",
       "U.S. BANCORP                                   19226      13\n",
       "AMERICAN EXPRESS COMPANY                       15964      14\n",
       "Ditech Financial LLC                           14767      15\n",
       "PNC Bank N.A.                                  12993      16\n",
       "ENCORE CAPITAL GROUP INC.                      12796      17\n",
       "DISCOVER BANK                                  12156      18\n",
       "PORTFOLIO RECOVERY ASSOCIATES INC              12148      19\n",
       "TD BANK US HOLDING COMPANY                     11275      20"
      ]
     },
     "execution_count": 9,
     "metadata": {},
     "output_type": "execute_result"
    }
   ],
   "source": [
    "dfT20.insert(loc=1, column='Top 20', value=np.arange(len(dfT20)) +1)\n",
    "dfT20.rename(columns={'Complaint ID':\"Issue Counts\"})"
   ]
  },
  {
   "cell_type": "code",
   "execution_count": 10,
   "metadata": {},
   "outputs": [
    {
     "name": "stdout",
     "output_type": "stream",
     "text": [
      "<class 'pandas.core.frame.DataFrame'>\n",
      "DatetimeIndex: 3012 entries, 2011-12-01 to 2020-02-29\n",
      "Data columns (total 1 columns):\n",
      "Complaint ID    3012 non-null int64\n",
      "dtypes: int64(1)\n",
      "memory usage: 47.1 KB\n"
     ]
    }
   ],
   "source": [
    "df_issues_dates = df.groupby('Date').count()[['Complaint ID']]\n",
    "df_issues_dates.info()"
   ]
  },
  {
   "cell_type": "code",
   "execution_count": 11,
   "metadata": {},
   "outputs": [
    {
     "name": "stdout",
     "output_type": "stream",
     "text": [
      "<class 'pandas.core.frame.DataFrame'>\n",
      "RangeIndex: 3012 entries, 0 to 3011\n",
      "Data columns (total 2 columns):\n",
      "Date            3012 non-null datetime64[ns]\n",
      "Complaint ID    3012 non-null int64\n",
      "dtypes: datetime64[ns](1), int64(1)\n",
      "memory usage: 47.2 KB\n"
     ]
    }
   ],
   "source": [
    "df_issues_dates = df_issues_dates.reset_index()\n",
    "df_issues_dates.info()"
   ]
  },
  {
   "cell_type": "code",
   "execution_count": 12,
   "metadata": {},
   "outputs": [],
   "source": [
    "df_issues_dates = df_issues_dates.rename(columns={'Complaint ID':\"Issue Counts\"})"
   ]
  },
  {
   "cell_type": "code",
   "execution_count": 13,
   "metadata": {},
   "outputs": [
    {
     "data": {
      "text/plain": [
       "<matplotlib.axes._subplots.AxesSubplot at 0x7fcf94dfee10>"
      ]
     },
     "execution_count": 13,
     "metadata": {},
     "output_type": "execute_result"
    },
    {
     "data": {
      "image/png": "[encoded data removed]",
      "text/plain": [
       "<Figure size 432x432 with 1 Axes>"
      ]
     },
     "metadata": {
      "needs_background": "light"
     },
     "output_type": "display_data"
    }
   ],
   "source": [
    "fig = plt.gcf()\n",
    "fig.set_size_inches(6, 6)\n",
    "ax = plt.gca()\n",
    "df_issues_dates.plot(kind='line',x='Date',y='Issue Counts',ax=ax)"
   ]
  },
  {
   "cell_type": "code",
   "execution_count": 14,
   "metadata": {},
   "outputs": [
    {
     "name": "stdout",
     "output_type": "stream",
     "text": [
      "<class 'pandas.core.frame.DataFrame'>\n",
      "RangeIndex: 20 entries, 0 to 19\n",
      "Data columns (total 3 columns):\n",
      "Company         20 non-null object\n",
      "Complaint ID    20 non-null int64\n",
      "Top 20          20 non-null int64\n",
      "dtypes: int64(2), object(1)\n",
      "memory usage: 608.0+ bytes\n"
     ]
    }
   ],
   "source": [
    "dfT20 = dfT20.reset_index()\n",
    "dfT20.info()"
   ]
  },
  {
   "cell_type": "code",
   "execution_count": 15,
   "metadata": {},
   "outputs": [],
   "source": [
    "dfAT20 = df.loc[df['Company'].isin(dfT20['Company'])] #reduce original data to T20"
   ]
  },
  {
   "cell_type": "code",
   "execution_count": 16,
   "metadata": {},
   "outputs": [],
   "source": [
    "def plotLine(company,df,color):\n",
    "    #adds a company line to the chart\n",
    "    dfC = df.loc[df['Company'] == company]\n",
    "    dfC_dates = dfC.groupby('Date').count()[['Complaint ID']]\n",
    "    dfC_dates = dfC_dates.reset_index()\n",
    "    dfC_dates = dfC_dates.rename(columns={'Complaint ID':company})\n",
    "  #  dfC_dates.plot(kind='line', x='Date',y=company, color=color, ax=ax, linestyle='None', marker='o', markersize=1)\n",
    "    dfC_dates.plot(kind='line', x='Date',y=company, color=color, ax=ax)\n",
    "    #dfC_dates.plot.bar(stacked=True,x='Date',y=company,color=color, ax=ax)\n",
    "    return dfC_dates"
   ]
  },
  {
   "cell_type": "code",
   "execution_count": 18,
   "metadata": {},
   "outputs": [
    {
     "data": {
      "image/png": "[encoded data removed]",
      "text/plain": [
       "<Figure size 720x720 with 1 Axes>"
      ]
     },
     "metadata": {
      "needs_background": "light"
     },
     "output_type": "display_data"
    }
   ],
   "source": [
    "fig = plt.gcf()\n",
    "fig.set_size_inches(10,10)\n",
    "ax = plt.gca()\n",
    "#ax.set_yscale('log')\n",
    "df_issues_dates = df_issues_dates.rename(columns={'Complaint ID':\"All\"})\n",
    "#df_issues_dates.plot(kind='line',x='Date',y='All',ax=ax)\n",
    "df1 = plotLine(dfT20['Company'][0], df,'red')\n",
    "df2 = plotLine(dfT20['Company'][1], df,'green')\n",
    "df3 = plotLine(dfT20['Company'][2], df,'purple')"
   ]
  },
  {
   "cell_type": "code",
   "execution_count": 23,
   "metadata": {},
   "outputs": [],
   "source": [
    "dfm = pd.merge(df1, df2, on='Date', how='outer')\n",
    "dfm = pd.merge(dfm, df3, on='Date', how='outer')"
   ]
  },
  {
   "cell_type": "code",
   "execution_count": 26,
   "metadata": {},
   "outputs": [
    {
     "data": {
      "text/html": [
       "<div>\n",
       "<style scoped>\n",
       "    .dataframe tbody tr th:only-of-type {\n",
       "        vertical-align: middle;\n",
       "    }\n",
       "\n",
       "    .dataframe tbody tr th {\n",
       "        vertical-align: top;\n",
       "    }\n",
       "\n",
       "    .dataframe thead th {\n",
       "        text-align: right;\n",
       "    }\n",
       "</style>\n",
       "<table border=\"1\" class=\"dataframe\">\n",
       "  <thead>\n",
       "    <tr style=\"text-align: right;\">\n",
       "      <th></th>\n",
       "      <th>Date</th>\n",
       "      <th>EQUIFAX, INC.</th>\n",
       "      <th>Experian Information Solutions Inc.</th>\n",
       "      <th>TRANSUNION INTERMEDIATE HOLDINGS, INC.</th>\n",
       "    </tr>\n",
       "  </thead>\n",
       "  <tbody>\n",
       "    <tr>\n",
       "      <td>0</td>\n",
       "      <td>2012-10-14</td>\n",
       "      <td>1.0</td>\n",
       "      <td>0.0</td>\n",
       "      <td>0.0</td>\n",
       "    </tr>\n",
       "    <tr>\n",
       "      <td>1</td>\n",
       "      <td>2012-10-22</td>\n",
       "      <td>7.0</td>\n",
       "      <td>7.0</td>\n",
       "      <td>5.0</td>\n",
       "    </tr>\n",
       "    <tr>\n",
       "      <td>2</td>\n",
       "      <td>2012-10-23</td>\n",
       "      <td>24.0</td>\n",
       "      <td>17.0</td>\n",
       "      <td>12.0</td>\n",
       "    </tr>\n",
       "    <tr>\n",
       "      <td>3</td>\n",
       "      <td>2012-10-24</td>\n",
       "      <td>20.0</td>\n",
       "      <td>23.0</td>\n",
       "      <td>11.0</td>\n",
       "    </tr>\n",
       "    <tr>\n",
       "      <td>4</td>\n",
       "      <td>2012-10-25</td>\n",
       "      <td>15.0</td>\n",
       "      <td>21.0</td>\n",
       "      <td>11.0</td>\n",
       "    </tr>\n",
       "    <tr>\n",
       "      <td>...</td>\n",
       "      <td>...</td>\n",
       "      <td>...</td>\n",
       "      <td>...</td>\n",
       "      <td>...</td>\n",
       "    </tr>\n",
       "    <tr>\n",
       "      <td>2681</td>\n",
       "      <td>2012-12-23</td>\n",
       "      <td>0.0</td>\n",
       "      <td>4.0</td>\n",
       "      <td>2.0</td>\n",
       "    </tr>\n",
       "    <tr>\n",
       "      <td>2682</td>\n",
       "      <td>2012-12-25</td>\n",
       "      <td>0.0</td>\n",
       "      <td>1.0</td>\n",
       "      <td>4.0</td>\n",
       "    </tr>\n",
       "    <tr>\n",
       "      <td>2683</td>\n",
       "      <td>2012-12-30</td>\n",
       "      <td>0.0</td>\n",
       "      <td>4.0</td>\n",
       "      <td>2.0</td>\n",
       "    </tr>\n",
       "    <tr>\n",
       "      <td>2684</td>\n",
       "      <td>2017-04-22</td>\n",
       "      <td>0.0</td>\n",
       "      <td>1.0</td>\n",
       "      <td>1.0</td>\n",
       "    </tr>\n",
       "    <tr>\n",
       "      <td>2685</td>\n",
       "      <td>2012-11-24</td>\n",
       "      <td>0.0</td>\n",
       "      <td>0.0</td>\n",
       "      <td>4.0</td>\n",
       "    </tr>\n",
       "  </tbody>\n",
       "</table>\n",
       "<p>2686 rows × 4 columns</p>\n",
       "</div>"
      ],
      "text/plain": [
       "           Date  EQUIFAX, INC.  Experian Information Solutions Inc.  \\\n",
       "0    2012-10-14            1.0                                  0.0   \n",
       "1    2012-10-22            7.0                                  7.0   \n",
       "2    2012-10-23           24.0                                 17.0   \n",
       "3    2012-10-24           20.0                                 23.0   \n",
       "4    2012-10-25           15.0                                 21.0   \n",
       "...         ...            ...                                  ...   \n",
       "2681 2012-12-23            0.0                                  4.0   \n",
       "2682 2012-12-25            0.0                                  1.0   \n",
       "2683 2012-12-30            0.0                                  4.0   \n",
       "2684 2017-04-22            0.0                                  1.0   \n",
       "2685 2012-11-24            0.0                                  0.0   \n",
       "\n",
       "      TRANSUNION INTERMEDIATE HOLDINGS, INC.  \n",
       "0                                        0.0  \n",
       "1                                        5.0  \n",
       "2                                       12.0  \n",
       "3                                       11.0  \n",
       "4                                       11.0  \n",
       "...                                      ...  \n",
       "2681                                     2.0  \n",
       "2682                                     4.0  \n",
       "2683                                     2.0  \n",
       "2684                                     1.0  \n",
       "2685                                     4.0  \n",
       "\n",
       "[2686 rows x 4 columns]"
      ]
     },
     "execution_count": 26,
     "metadata": {},
     "output_type": "execute_result"
    }
   ],
   "source": [
    "dfm.fillna(0)"
   ]
  },
  {
   "cell_type": "code",
   "execution_count": 28,
   "metadata": {},
   "outputs": [
    {
     "data": {
      "text/plain": [
       "<matplotlib.legend.Legend at 0x7fcf949c3d50>"
      ]
     },
     "execution_count": 28,
     "metadata": {},
     "output_type": "execute_result"
    },
    {
     "data": {
      "image/png": "[encoded data removed]",
      "text/plain": [
       "<Figure size 432x288 with 1 Axes>"
      ]
     },
     "metadata": {
      "needs_background": "light"
     },
     "output_type": "display_data"
    }
   ],
   "source": [
    "# Basic stacked area chart.\n",
    "plt.stackplot(dfm['Date'],dfm['EQUIFAX, INC.'],dfm['Experian Information Solutions Inc.'],labels=['A','B'])\n",
    "plt.legend(loc='upper left')\n"
   ]
  }
 ],
 "metadata": {
  "kernelspec": {
   "display_name": "Python 3",
   "language": "python",
   "name": "python3"
  },
  "language_info": {
   "codemirror_mode": {
    "name": "ipython",
    "version": 3
   },
   "file_extension": ".py",
   "mimetype": "text/x-python",
   "name": "python",
   "nbconvert_exporter": "python",
   "pygments_lexer": "ipython3",
   "version": "3.7.4"
  }
 },
 "nbformat": 4,
 "nbformat_minor": 2
}
