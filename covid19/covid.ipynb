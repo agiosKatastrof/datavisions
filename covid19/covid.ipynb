{
 "cells": [
  {
   "cell_type": "code",
   "execution_count": 1,
   "metadata": {
    "scrolled": true
   },
   "outputs": [],
   "source": [
    "import pandas as pd\n",
    "import numpy as np\n",
    "import matplotlib.pyplot as plt\n",
    "import tabula\n",
    "import dill\n",
    "import re\n",
    "import sys\n",
    "import csv\n",
    "from os import listdir\n",
    "from os.path import isfile, join"
   ]
  },
  {
   "cell_type": "code",
   "execution_count": 2,
   "metadata": {},
   "outputs": [],
   "source": [
    "#mypath = '/home/joe/data/covid19/who'\n",
    "mypath = '/home/joe/data/covid19/who/test'\n",
    "#mypath = '/run/user/1000/gvfs/smb-share:server=majesty.local,share=filesjoe/data/who_covid19_reports/renamed'\n",
    "filelist = '/home/joe/datavisions/covid19/filelist'\n",
    "summary = '/home/joe/data/covid19/summary'\n",
    "#dill.dump_session('data.db')\n",
    "#dill.load_session('data.db')"
   ]
  },
  {
   "cell_type": "code",
   "execution_count": 3,
   "metadata": {},
   "outputs": [],
   "source": [
    "def findFilesToProcess(mypath,filelist):\n",
    "# find pdfs in path\n",
    "# if the file has not been processed, process it\n",
    "\n",
    "    # list of files in dir\n",
    "    files = [f for f in listdir(mypath) if isfile(join(mypath, f))]\n",
    "    dfFiles = pd.DataFrame(files, columns = ['file'])\n",
    "    #print(dfFiles)\n",
    "    \n",
    "    # create df of done files\n",
    "    doneFiles = open(filelist).read().splitlines()\n",
    "    dfDone = pd.DataFrame(doneFiles, columns = ['file'])\n",
    "    #print(dfDone)\n",
    "    \n",
    "    return dfFiles[dfFiles['file'].isin(dfDone['file']) == False]"
   ]
  },
  {
   "cell_type": "code",
   "execution_count": 4,
   "metadata": {},
   "outputs": [],
   "source": [
    "def parsePdf(f):\n",
    "    \n",
    "    tables = tabula.read_pdf(f, pages = \"all\", multiple_tables = True)\n",
    "    chinaNumbers = findChina(tables)\n",
    "       \n",
    "    return chinaNumbers   "
   ]
  },
  {
   "cell_type": "code",
   "execution_count": 5,
   "metadata": {},
   "outputs": [],
   "source": [
    "# %load findChina.py\n",
    "def findChina(tables):\n",
    "# from the list of tables (dfs), find the one with china - return cumulative cases and deaths\n",
    "    x = 'Province/' # id China with this\n",
    "    y = 'Hubei'# id China with this\n",
    "    output = ['N/A','N/A']\n",
    "    for df in tables:\n",
    "        if (x in df.columns.values):\n",
    "#            print(df.columns.values)\n",
    "            if (y in df[x].tolist()):\n",
    "                output = re.split('\\\\s+',df['Cumulative'].iloc[-1])\n",
    "    return output"
   ]
  },
  {
   "cell_type": "code",
   "execution_count": 6,
   "metadata": {},
   "outputs": [],
   "source": [
    "def processFile(mypath,filelist,summary,f):\n",
    "    date, ext = f.split('.')\n",
    "    ffile = '/'.join([mypath,f])\n",
    "\n",
    "    try:\n",
    "        fl = open(filelist,\"a+\")\n",
    "    except OSError:\n",
    "        print(\"could not open filelist to append \", filelist)\n",
    "        sys.exit()\n",
    "        \n",
    "    try:\n",
    "        summary = open(summary,\"a+\")\n",
    "    except OSError:\n",
    "        print(\"could not open summary to append \", summary)\n",
    "        sys.exit()\n",
    "    \n",
    "    chinaNumbers = parsePdf(ffile)\n",
    "    chinaNumbers.insert(0,'china')\n",
    "    chinaNumbers.insert(0,date)\n",
    "    chinaVals = \",\".join(str(x) for x in chinaNumbers)\n",
    "    \n",
    "    try:\n",
    "        summary.write(chinaVals + \"\\n\")\n",
    "    except OSError:\n",
    "        print(\"could not append \", summary)\n",
    "        sys.exit()\n",
    "\n",
    "    try:\n",
    "        print(\"update filelist \")\n",
    "        fl.write(f + \"\\n\")\n",
    "    except OSError:\n",
    "        print(\"could not append \", filelist)\n",
    "        sys.exit()\n",
    "        \n",
    "    try:\n",
    "        summary.close()\n",
    "    except OSError:\n",
    "        print(\"could not close summary \", summary)\n",
    "        sys.exit()\n",
    "\n",
    "    try:\n",
    "        fl.close()\n",
    "    except OSError:\n",
    "        print(\"could not close file list \", filelist)\n",
    "        sys.exit()\n",
    "        \n",
    "    return chinaVals"
   ]
  },
  {
   "cell_type": "code",
   "execution_count": 7,
   "metadata": {
    "scrolled": true
   },
   "outputs": [
    {
     "name": "stdout",
     "output_type": "stream",
     "text": [
      "found to process:  2020-03-06.pdf\n"
     ]
    },
    {
     "name": "stderr",
     "output_type": "stream",
     "text": [
      "Got stderr: Mar 10, 2020 9:12:25 PM org.apache.pdfbox.pdmodel.font.PDTrueTypeFont <init>\n",
      "WARNING: Using fallback font 'LiberationSans' for 'TimesNewRomanPSMT'\n",
      "Mar 10, 2020 9:12:25 PM org.apache.pdfbox.pdmodel.font.PDTrueTypeFont <init>\n",
      "WARNING: Using fallback font 'LiberationSans' for 'TimesNewRomanPSMT'\n",
      "Mar 10, 2020 9:12:26 PM org.apache.pdfbox.pdmodel.font.PDTrueTypeFont <init>\n",
      "WARNING: Using fallback font 'LiberationSans' for 'TimesNewRomanPSMT'\n",
      "\n"
     ]
    },
    {
     "name": "stdout",
     "output_type": "stream",
     "text": [
      "update filelist \n",
      "output:  2020-03-06,china,80711,3045\n",
      "found to process:  2020-03-07.pdf\n"
     ]
    },
    {
     "name": "stderr",
     "output_type": "stream",
     "text": [
      "Got stderr: Mar 10, 2020 9:12:32 PM org.apache.pdfbox.pdmodel.font.PDTrueTypeFont <init>\n",
      "WARNING: Using fallback font 'LiberationSans' for 'TimesNewRomanPSMT'\n",
      "\n"
     ]
    },
    {
     "name": "stdout",
     "output_type": "stream",
     "text": [
      "update filelist \n",
      "output:  2020-03-07,china,80813,3073\n",
      "found to process:  2020-03-08.pdf\n"
     ]
    },
    {
     "name": "stderr",
     "output_type": "stream",
     "text": [
      "Got stderr: Mar 10, 2020 9:12:38 PM org.apache.pdfbox.pdmodel.font.PDTrueTypeFont <init>\n",
      "WARNING: Using fallback font 'LiberationSans' for 'TimesNewRomanPSMT'\n",
      "Mar 10, 2020 9:12:38 PM org.apache.pdfbox.pdmodel.font.PDTrueTypeFont <init>\n",
      "WARNING: Using fallback font 'LiberationSans' for 'TimesNewRomanPSMT'\n",
      "Mar 10, 2020 9:12:39 PM org.apache.pdfbox.pdmodel.font.PDTrueTypeFont <init>\n",
      "WARNING: Using fallback font 'LiberationSans' for 'TimesNewRomanPSMT'\n",
      "\n"
     ]
    },
    {
     "name": "stdout",
     "output_type": "stream",
     "text": [
      "update filelist \n",
      "output:  2020-03-08,china,80859,3100\n",
      "found to process:  2020-03-09.pdf\n"
     ]
    },
    {
     "name": "stderr",
     "output_type": "stream",
     "text": [
      "Got stderr: Mar 10, 2020 9:12:43 PM org.apache.pdfbox.pdmodel.font.PDTrueTypeFont <init>\n",
      "WARNING: Using fallback font 'LiberationSans' for 'TimesNewRomanPSMT'\n",
      "Mar 10, 2020 9:12:44 PM org.apache.pdfbox.pdmodel.font.PDCIDFontType2 <init>\n",
      "INFO: OpenType Layout tables used in font Arial-BoldMT are not implemented in PDFBox and will be ignored\n",
      "Mar 10, 2020 9:12:44 PM org.apache.pdfbox.pdmodel.font.PDTrueTypeFont <init>\n",
      "WARNING: Using fallback font 'LiberationSans' for 'TimesNewRomanPSMT'\n",
      "Mar 10, 2020 9:12:44 PM org.apache.pdfbox.pdmodel.font.PDCIDFontType2 <init>\n",
      "INFO: OpenType Layout tables used in font Arial-BoldMT are not implemented in PDFBox and will be ignored\n",
      "Mar 10, 2020 9:12:44 PM org.apache.pdfbox.pdmodel.font.PDTrueTypeFont <init>\n",
      "WARNING: Using fallback font 'LiberationSans' for 'TimesNewRomanPSMT'\n",
      "Mar 10, 2020 9:12:44 PM org.apache.pdfbox.pdmodel.font.PDCIDFontType2 <init>\n",
      "INFO: OpenType Layout tables used in font Arial-BoldMT are not implemented in PDFBox and will be ignored\n",
      "Mar 10, 2020 9:12:46 PM org.apache.pdfbox.pdmodel.font.PDCIDFontType2 <init>\n",
      "INFO: OpenType Layout tables used in font BCDGEE+Calibri-Bold are not implemented in PDFBox and will be ignored\n",
      "Mar 10, 2020 9:12:46 PM org.apache.pdfbox.pdmodel.font.PDCIDFontType2 <init>\n",
      "INFO: OpenType Layout tables used in font BCDGEE+Calibri-Bold are not implemented in PDFBox and will be ignored\n",
      "Mar 10, 2020 9:12:46 PM org.apache.pdfbox.pdmodel.font.PDCIDFontType2 <init>\n",
      "INFO: OpenType Layout tables used in font BCDGEE+Calibri-Bold are not implemented in PDFBox and will be ignored\n",
      "Mar 10, 2020 9:12:47 PM org.apache.pdfbox.pdmodel.font.PDCIDFontType2 <init>\n",
      "INFO: OpenType Layout tables used in font BCDHEE+Calibri are not implemented in PDFBox and will be ignored\n",
      "Mar 10, 2020 9:12:47 PM org.apache.pdfbox.pdmodel.font.PDCIDFontType2 <init>\n",
      "INFO: OpenType Layout tables used in font BCDGEE+Calibri-Bold are not implemented in PDFBox and will be ignored\n",
      "Mar 10, 2020 9:12:47 PM org.apache.pdfbox.pdmodel.font.PDCIDFontType2 <init>\n",
      "INFO: OpenType Layout tables used in font BCDHEE+Calibri are not implemented in PDFBox and will be ignored\n",
      "Mar 10, 2020 9:12:47 PM org.apache.pdfbox.pdmodel.font.PDCIDFontType2 <init>\n",
      "INFO: OpenType Layout tables used in font BCDGEE+Calibri-Bold are not implemented in PDFBox and will be ignored\n",
      "Mar 10, 2020 9:12:47 PM org.apache.pdfbox.pdmodel.font.PDCIDFontType2 <init>\n",
      "INFO: OpenType Layout tables used in font BCDHEE+Calibri are not implemented in PDFBox and will be ignored\n",
      "Mar 10, 2020 9:12:47 PM org.apache.pdfbox.pdmodel.font.PDCIDFontType2 <init>\n",
      "INFO: OpenType Layout tables used in font BCDHEE+Calibri are not implemented in PDFBox and will be ignored\n",
      "Mar 10, 2020 9:12:48 PM org.apache.pdfbox.pdmodel.font.PDCIDFontType2 <init>\n",
      "INFO: OpenType Layout tables used in font BCDHEE+Calibri are not implemented in PDFBox and will be ignored\n",
      "Mar 10, 2020 9:12:48 PM org.apache.pdfbox.pdmodel.font.PDCIDFontType2 <init>\n",
      "INFO: OpenType Layout tables used in font ArialMT are not implemented in PDFBox and will be ignored\n",
      "Mar 10, 2020 9:12:48 PM org.apache.pdfbox.pdmodel.font.PDCIDFontType2 <init>\n",
      "INFO: OpenType Layout tables used in font ArialMT are not implemented in PDFBox and will be ignored\n",
      "Mar 10, 2020 9:12:48 PM org.apache.pdfbox.pdmodel.font.PDCIDFontType2 <init>\n",
      "INFO: OpenType Layout tables used in font BCDHEE+Calibri are not implemented in PDFBox and will be ignored\n",
      "Mar 10, 2020 9:12:48 PM org.apache.pdfbox.pdmodel.font.PDCIDFontType2 <init>\n",
      "INFO: OpenType Layout tables used in font ArialMT are not implemented in PDFBox and will be ignored\n",
      "Mar 10, 2020 9:12:48 PM org.apache.pdfbox.pdmodel.font.PDCIDFontType2 <init>\n",
      "INFO: OpenType Layout tables used in font BCDHEE+Calibri are not implemented in PDFBox and will be ignored\n",
      "\n"
     ]
    },
    {
     "name": "stdout",
     "output_type": "stream",
     "text": [
      "update filelist \n",
      "output:  2020-03-09,china,N/A,N/A\n"
     ]
    }
   ],
   "source": [
    "dfToProcess = findFilesToProcess(mypath,filelist)\n",
    "rows, columns = dfToProcess.shape\n",
    "\n",
    "if (rows > 0): #there are files to process\n",
    "    #f = dfToProcess['file'].iloc[0]  # just do one file\n",
    "    \n",
    "    for f in dfToProcess['file'].tolist():   \n",
    "        print(\"found to process: \", f)\n",
    "        out = processFile(mypath,filelist,summary,f)\n",
    "        print(\"output: \", out) \n"
   ]
  },
  {
   "cell_type": "code",
   "execution_count": null,
   "metadata": {},
   "outputs": [],
   "source": []
  }
 ],
 "metadata": {
  "kernelspec": {
   "display_name": "Python 3",
   "language": "python",
   "name": "python3"
  },
  "language_info": {
   "codemirror_mode": {
    "name": "ipython",
    "version": 3
   },
   "file_extension": ".py",
   "mimetype": "text/x-python",
   "name": "python",
   "nbconvert_exporter": "python",
   "pygments_lexer": "ipython3",
   "version": "3.7.4"
  }
 },
 "nbformat": 4,
 "nbformat_minor": 4
}
