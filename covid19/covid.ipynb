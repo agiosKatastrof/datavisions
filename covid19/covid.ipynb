{
 "cells": [
  {
   "cell_type": "code",
   "execution_count": 1,
   "metadata": {
    "scrolled": true
   },
   "outputs": [],
   "source": [
    "import pandas as pd\n",
    "import numpy as np\n",
    "import matplotlib.pyplot as plt\n",
    "import tabula\n",
    "import dill\n",
    "import re\n",
    "from os import listdir\n",
    "from os.path import isfile, join"
   ]
  },
  {
   "cell_type": "code",
   "execution_count": 2,
   "metadata": {},
   "outputs": [
    {
     "name": "stdout",
     "output_type": "stream",
     "text": [
      "['2020-02-26.pdf', '2020-02-13.pdf', '2020-02-09.pdf', '2020-03-01.pdf', '2020-02-01.pdf', '2020-02-19.pdf', '2020-02-23.pdf', '2020-02-21.pdf', '2020-02-12.pdf', '2020-01-31.pdf', '2020-02-11.pdf', '2020-02-27.pdf', '2020-01-28.pdf', '2020-01-26.pdf', '2020-02-20.pdf', '2020-01-25.pdf', '2020-01-29.pdf', '2020-02-02.pdf', '2020-02-06.pdf', '2020-03-06.pdf', '2020-03-02.pdf', '2020-02-03.pdf', '2020-01-22.pdf', '2020-03-07.pdf', '2020-02-24.pdf', '2020-02-14.pdf', '2020-02-08.pdf', '2020-01-21.pdf', '2020-02-15.pdf', '2020-01-27.pdf', '2020-02-25.pdf', '2020-02-10.pdf', '2020-02-16.pdf', '2020-03-08.pdf', '2020-02-07.pdf', '2020-02-29.pdf', '2020-02-17.pdf', '2020-02-18.pdf', '2020-02-22.pdf', '2020-02-28.pdf', '2020-01-30.pdf', '2020-02-05.pdf', '2020-01-23.pdf', '2020-01-24.pdf', '2020-02-04.pdf', '2020-03-09.pdf', '2020-03-05.pdf', '2020-03-03.pdf', '2020-03-04.pdf']\n"
     ]
    }
   ],
   "source": [
    "mypath = '/home/joe/data/covid19/who'\n",
    "files = [f for f in listdir(mypath) if isfile(join(mypath, f))]\n",
    "print(files)"
   ]
  },
  {
   "cell_type": "code",
   "execution_count": 7,
   "metadata": {},
   "outputs": [
    {
     "name": "stderr",
     "output_type": "stream",
     "text": [
      "Got stderr: Mar 09, 2020 7:41:17 PM org.apache.pdfbox.pdmodel.font.PDTrueTypeFont <init>\n",
      "WARNING: Using fallback font 'LiberationSans' for 'TimesNewRomanPSMT'\n",
      "\n"
     ]
    }
   ],
   "source": [
    "date = '2020-03-07'\n",
    "f = \"/home/joe/data/covid19/who/\" + date + \".pdf\"\n",
    "df = tabula.read_pdf(f, pages = \"all\", multiple_tables = True)\n",
    "#dill.dump_session('parsed.db')\n",
    "#dill.load_session('parsed.db')"
   ]
  },
  {
   "cell_type": "code",
   "execution_count": 8,
   "metadata": {},
   "outputs": [],
   "source": [
    "# %load findChina.py\n",
    "def findChina(df):\n",
    "    x = 'Province/' # id China with this\n",
    "    y = 'Hubei'# id China with this\n",
    "    for df in tables:\n",
    "        if (x in df.columns.values):\n",
    "            if (y in df[x].tolist()):\n",
    "                print(re.split('\\\\s+',df['Cumulative'].iloc[-1]))\n"
   ]
  },
  {
   "cell_type": "code",
   "execution_count": 6,
   "metadata": {},
   "outputs": [
    {
     "ename": "NameError",
     "evalue": "name 'df' is not defined",
     "output_type": "error",
     "traceback": [
      "\u001b[0;31m---------------------------------------------------------------------------\u001b[0m",
      "\u001b[0;31mNameError\u001b[0m                                 Traceback (most recent call last)",
      "\u001b[0;32m<ipython-input-6-c8753713783d>\u001b[0m in \u001b[0;36m<module>\u001b[0;34m\u001b[0m\n\u001b[0;32m----> 1\u001b[0;31m \u001b[0mfindChina\u001b[0m\u001b[0;34m(\u001b[0m\u001b[0mdf\u001b[0m\u001b[0;34m)\u001b[0m\u001b[0;34m\u001b[0m\u001b[0;34m\u001b[0m\u001b[0m\n\u001b[0m",
      "\u001b[0;31mNameError\u001b[0m: name 'df' is not defined"
     ]
    }
   ],
   "source": [
    "findChina(df)"
   ]
  }
 ],
 "metadata": {
  "kernelspec": {
   "display_name": "Python 3",
   "language": "python",
   "name": "python3"
  },
  "language_info": {
   "codemirror_mode": {
    "name": "ipython",
    "version": 3
   },
   "file_extension": ".py",
   "mimetype": "text/x-python",
   "name": "python",
   "nbconvert_exporter": "python",
   "pygments_lexer": "ipython3",
   "version": "3.7.4"
  }
 },
 "nbformat": 4,
 "nbformat_minor": 4
}
