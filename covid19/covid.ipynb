{
 "cells": [
  {
   "cell_type": "code",
   "execution_count": 66,
   "metadata": {
    "scrolled": true
   },
   "outputs": [],
   "source": [
    "import pandas as pd\n",
    "import numpy as np\n",
    "import matplotlib.pyplot as plt\n",
    "import tabula\n",
    "import dill\n",
    "import re\n",
    "import sys\n",
    "from os import listdir\n",
    "from os.path import isfile, join"
   ]
  },
  {
   "cell_type": "code",
   "execution_count": 67,
   "metadata": {},
   "outputs": [],
   "source": [
    "mypath = '/home/joe/data/covid19/who/test'\n",
    "#mypath = '/run/user/1000/gvfs/smb-share:server=majesty.local,share=filesjoe/data/who_covid19_reports/renamed'\n",
    "filelist = '/home/joe/datavisions/covid19/filelist'\n"
   ]
  },
  {
   "cell_type": "code",
   "execution_count": 68,
   "metadata": {},
   "outputs": [],
   "source": [
    "#dill.dump_session('data.db')\n",
    "#dill.load_session('data.db')"
   ]
  },
  {
   "cell_type": "code",
   "execution_count": 69,
   "metadata": {},
   "outputs": [],
   "source": [
    "def findFilesToProcess(mypath,filelist):\n",
    "# find pdfs in path\n",
    "# if the file has not been processed, process it\n",
    "\n",
    "    # list of files in dir\n",
    "    files = [f for f in listdir(mypath) if isfile(join(mypath, f))]\n",
    "    dfFiles = pd.DataFrame(files, columns = ['file'])\n",
    "    #print(dfFiles)\n",
    "    \n",
    "    # create df of done files\n",
    "    doneFiles = open(filelist).read().splitlines()\n",
    "    dfDone = pd.DataFrame(doneFiles, columns = ['file'])\n",
    "    #print(dfDone)\n",
    "    \n",
    "    return dfFiles[dfFiles['file'].isin(dfDone['file']) == False]\n",
    "    \n"
   ]
  },
  {
   "cell_type": "code",
   "execution_count": 101,
   "metadata": {},
   "outputs": [],
   "source": [
    "# %load findChina.py\n",
    "def findChina(tables):\n",
    "# from the list of tables (dfs), find the one with china - return cumulative cases and deaths\n",
    "    x = 'Province/' # id China with this\n",
    "    y = 'Hubei'# id China with this\n",
    "    output = ['N/A','N/A']\n",
    "    for df in tables:\n",
    "        if (x in df.columns.values):\n",
    "            if (y in df[x].tolist()):\n",
    "                output = re.split('\\\\s+',df['Cumulative'].iloc[-1])\n",
    "    return output\n"
   ]
  },
  {
   "cell_type": "code",
   "execution_count": 103,
   "metadata": {},
   "outputs": [],
   "source": [
    "def parsePdf(f):\n",
    "    \n",
    "    tables = tabula.read_pdf(f, pages = \"all\", multiple_tables = True)\n",
    "    chinaNumbers = findChina(tables)\n",
    "        \n",
    "    return chinaNumbers\n",
    "    "
   ]
  },
  {
   "cell_type": "code",
   "execution_count": 114,
   "metadata": {},
   "outputs": [],
   "source": [
    "def processFile(mypath,filelist,f):\n",
    "    date, ext = f.split('.')\n",
    "    ffile = '/'.join([mypath,f])\n",
    "\n",
    "    try:\n",
    "        fl = open(filelist,\"a+\")\n",
    "    except OSError:\n",
    "        print(\"could not open file to append \", filelist)\n",
    "        sys.exit()\n",
    "    \n",
    "    chinaNumbers = parsePdf(ffile)\n",
    "\n",
    "    try:\n",
    "        fl.write(f + \"\\n\")\n",
    "    except OSError:\n",
    "        print(\"could not append \", filelist)\n",
    "        sys.exit()\n",
    "\n",
    "    try:\n",
    "        fl.close()\n",
    "    except OSError:\n",
    "        print(\"could not close file list \", filelist)\n",
    "        sys.exit()\n",
    "        \n",
    "    chinaNumbers.insert(0,'china')\n",
    "    chinaNumbers.insert(0,date)\n",
    "    \n",
    "    return chinaNumbers"
   ]
  },
  {
   "cell_type": "code",
   "execution_count": 117,
   "metadata": {
    "scrolled": true
   },
   "outputs": [
    {
     "name": "stderr",
     "output_type": "stream",
     "text": [
      "Got stderr: Mar 10, 2020 4:19:33 PM org.apache.pdfbox.pdmodel.font.PDTrueTypeFont <init>\n",
      "WARNING: Using fallback font 'LiberationSans' for 'TimesNewRomanPSMT'\n",
      "Mar 10, 2020 4:19:34 PM org.apache.pdfbox.pdmodel.font.PDTrueTypeFont <init>\n",
      "WARNING: Using fallback font 'LiberationSans' for 'TimesNewRomanPSMT'\n",
      "Mar 10, 2020 4:19:34 PM org.apache.pdfbox.pdmodel.font.PDTrueTypeFont <init>\n",
      "WARNING: Using fallback font 'LiberationSans' for 'TimesNewRomanPSMT'\n",
      "\n"
     ]
    },
    {
     "name": "stdout",
     "output_type": "stream",
     "text": [
      "['2020-03-06', 'china', '80711', '3045']\n"
     ]
    }
   ],
   "source": [
    "dfToProcess = findFilesToProcess(mypath,filelist)\n",
    "rows, columns = dfToProcess.shape\n",
    "#f = dfToProcess['file'].iloc[0]\n",
    "#print(f)\n",
    "if (rows > 0): #there are files to process, process the first file\n",
    "    out = processFile(mypath,filelist,dfToProcess['file'].iloc[0])\n",
    "    print(out)"
   ]
  },
  {
   "cell_type": "code",
   "execution_count": null,
   "metadata": {},
   "outputs": [],
   "source": []
  },
  {
   "cell_type": "code",
   "execution_count": null,
   "metadata": {},
   "outputs": [],
   "source": []
  }
 ],
 "metadata": {
  "kernelspec": {
   "display_name": "Python 3",
   "language": "python",
   "name": "python3"
  },
  "language_info": {
   "codemirror_mode": {
    "name": "ipython",
    "version": 3
   },
   "file_extension": ".py",
   "mimetype": "text/x-python",
   "name": "python",
   "nbconvert_exporter": "python",
   "pygments_lexer": "ipython3",
   "version": "3.7.4"
  }
 },
 "nbformat": 4,
 "nbformat_minor": 4
}
