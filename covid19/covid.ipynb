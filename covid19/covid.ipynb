{
 "cells": [
  {
   "cell_type": "code",
   "execution_count": 18,
   "metadata": {
    "scrolled": true
   },
   "outputs": [],
   "source": [
    "import pandas as pd\n",
    "import numpy as np\n",
    "import matplotlib.pyplot as plt\n",
    "import tabula\n",
    "import dill\n",
    "import re\n",
    "from os import listdir\n",
    "from os.path import isfile, join"
   ]
  },
  {
   "cell_type": "code",
   "execution_count": 36,
   "metadata": {},
   "outputs": [],
   "source": [
    "mypath = '/home/joe/data/covid19/who'\n",
    "filelist = '/home/joe/datavisions/covid19/filelist'\n",
    "#mypath = '/run/user/1000/gvfs/smb-share:server=majesty.local,share=filesjoe/data/who_covid19_reports/renamed'"
   ]
  },
  {
   "cell_type": "code",
   "execution_count": 37,
   "metadata": {},
   "outputs": [],
   "source": [
    "#dill.dump_session('data.db')\n",
    "#dill.load_session('data.db')"
   ]
  },
  {
   "cell_type": "code",
   "execution_count": 38,
   "metadata": {},
   "outputs": [],
   "source": [
    "# %load findChina.py\n",
    "def findChina(tables):\n",
    "# from the list of tables (dfs), find the one with china - return cumulative cases and deaths\n",
    "    x = 'Province/' # id China with this\n",
    "    y = 'Hubei'# id China with this\n",
    "    for df in tables:\n",
    "        if (x in df.columns.values):\n",
    "            if (y in df[x].tolist()):\n",
    "                print(re.split('\\\\s+',df['Cumulative'].iloc[-1]))\n"
   ]
  },
  {
   "cell_type": "code",
   "execution_count": 101,
   "metadata": {},
   "outputs": [],
   "source": [
    "def processFile(mypath,filelist):\n",
    "# find pdfs in path\n",
    "# if the file has not been processed, process it\n",
    "\n",
    "    # list of files in dir\n",
    "    files = [f for f in listdir(mypath) if isfile(join(mypath, f))]\n",
    "    dfFiles = pd.DataFrame(files, columns = ['file'])\n",
    "    print(dfFiles)\n",
    "    \n",
    "    # create df of done files\n",
    "    doneFiles = open(filelist).read().splitlines()\n",
    "    dfDone = pd.DataFrame(doneFiles, columns = ['file'])\n",
    "    print(dfDone)\n",
    "    \n",
    "    x = dfFiles[dfFiles['file'].isin(dfDone['file'])]\n",
    "    print(x)\n",
    "\n",
    "    \n",
    "    \n",
    "  #  dfm = pd.merge(dfDone, dfFiles, on=['file'], how='inner')\n",
    "\n",
    "        \n",
    "    # check if files in dir are in done files df\n",
    "  #  for f in (files):\n",
    "  #      f = join(mypath,f)\n",
    " #       print(f)\n",
    "        \n",
    " #       print(filelist)\n",
    "#tables = tabula.read_pdf(f, pages = \"all\", multiple_tables = True)"
   ]
  },
  {
   "cell_type": "code",
   "execution_count": 102,
   "metadata": {},
   "outputs": [
    {
     "name": "stdout",
     "output_type": "stream",
     "text": [
      "             file\n",
      "0  2020-03-09.pdf\n",
      "1  2020-03-08.pdf\n",
      "             file\n",
      "0  2020-03-09.pdf\n",
      "             file\n",
      "0  2020-03-09.pdf\n"
     ]
    }
   ],
   "source": [
    "processFile(mypath,filelist)"
   ]
  }
 ],
 "metadata": {
  "kernelspec": {
   "display_name": "Python 3",
   "language": "python",
   "name": "python3"
  },
  "language_info": {
   "codemirror_mode": {
    "name": "ipython",
    "version": 3
   },
   "file_extension": ".py",
   "mimetype": "text/x-python",
   "name": "python",
   "nbconvert_exporter": "python",
   "pygments_lexer": "ipython3",
   "version": "3.7.4"
  }
 },
 "nbformat": 4,
 "nbformat_minor": 4
}
