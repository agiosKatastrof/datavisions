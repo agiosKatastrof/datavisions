{
 "cells": [
  {
   "cell_type": "code",
   "execution_count": 46,
   "metadata": {
    "scrolled": true
   },
   "outputs": [],
   "source": [
    "import pandas as pd\n",
    "import numpy as np\n",
    "import matplotlib.pyplot as plt\n",
    "import tabula\n",
    "import dill\n",
    "import re\n",
    "from os import listdir\n",
    "from os.path import isfile, join"
   ]
  },
  {
   "cell_type": "code",
   "execution_count": 47,
   "metadata": {},
   "outputs": [
    {
     "name": "stdout",
     "output_type": "stream",
     "text": [
      "['20200307-sitrep-47-covid-19.pdf', '03-07-2020.pdf', '20200308-sitrep-48-covid-19.pdf']\n"
     ]
    }
   ],
   "source": [
    "mypath = '/home/joe/data/covid19'\n",
    "files = [f for f in listdir(mypath) if isfile(join(mypath, f))]\n",
    "print(files)"
   ]
  },
  {
   "cell_type": "code",
   "execution_count": null,
   "metadata": {},
   "outputs": [],
   "source": []
  },
  {
   "cell_type": "code",
   "execution_count": null,
   "metadata": {},
   "outputs": [],
   "source": [
    "date = '03-07-2020'\n",
    "f = \"/home/joe/data/covid19/\" + date + \".pdf\"\n",
    "#f = \"/home/joe/data/covid19/20200308-sitrep-48-covid-19.pdf\"\n",
    "f = \"/home/joe/data/covid19/20200307-sitrep-47-covid-19.pdf\"\n",
    "tables = tabula.read_pdf(f, pages = \"all\", multiple_tables = True)\n",
    "#dill.dump_session('parsed.db')\n",
    "#dill.load_session('parsed.db')"
   ]
  },
  {
   "cell_type": "code",
   "execution_count": 40,
   "metadata": {},
   "outputs": [],
   "source": [
    "# %load findChina.py\n",
    "def findChina(df):\n",
    "    x = 'Province/' # id China with this\n",
    "    y = 'Hubei'# id China with this\n",
    "    for df in tables:\n",
    "        if (x in df.columns.values):\n",
    "            if (y in df[x].tolist()):\n",
    "                print(re.split('\\\\s+',df['Cumulative'].iloc[-1]))\n"
   ]
  },
  {
   "cell_type": "code",
   "execution_count": 41,
   "metadata": {},
   "outputs": [
    {
     "name": "stdout",
     "output_type": "stream",
     "text": [
      "['80813', '3073']\n"
     ]
    }
   ],
   "source": [
    "findChina(df)"
   ]
  }
 ],
 "metadata": {
  "kernelspec": {
   "display_name": "Python 3",
   "language": "python",
   "name": "python3"
  },
  "language_info": {
   "codemirror_mode": {
    "name": "ipython",
    "version": 3
   },
   "file_extension": ".py",
   "mimetype": "text/x-python",
   "name": "python",
   "nbconvert_exporter": "python",
   "pygments_lexer": "ipython3",
   "version": "3.7.4"
  }
 },
 "nbformat": 4,
 "nbformat_minor": 4
}
