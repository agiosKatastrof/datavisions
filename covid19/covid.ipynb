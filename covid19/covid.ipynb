{
 "cells": [
  {
   "cell_type": "code",
   "execution_count": 22,
   "metadata": {},
   "outputs": [],
   "source": [
    "import pandas as pd\n",
    "import numpy as np\n",
    "import matplotlib.pyplot as plt\n",
    "import tabula\n",
    "import dill\n",
    "\n",
    "#f = '/home/joe/data/covid19/20200307.pdf'\n",
    "\n",
    "#tables = tabula.read_pdf(f, pages = \"all\", multiple_tables = True)\n",
    "#dill.dump_session('parsed.db')\n",
    "dill.load_session('parsed.db')\n",
    "\n",
    "nTables = len(tables)"
   ]
  },
  {
   "cell_type": "code",
   "execution_count": 32,
   "metadata": {},
   "outputs": [
    {
     "name": "stdout",
     "output_type": "stream",
     "text": [
      "N:  0\n",
      "______________\n",
      "N:  1\n",
      "______________\n",
      "N:  2\n",
      "______________\n",
      "N:  3\n",
      "______________\n",
      "N:  4\n",
      "______________\n",
      "N:  5\n",
      "______________\n",
      "N:  6\n",
      "______________\n",
      "N:  7\n",
      "______________\n",
      "N:  8\n",
      "______________\n"
     ]
    }
   ],
   "source": [
    "i=0\n",
    "while i < nTables:\n",
    "    print(\"N: \", i)\n",
    "    tables[i].info()\n",
    "    print(tables[i])\n",
    "    i += 1\n",
    "    print(\"______________\")\n",
    "    "
   ]
  },
  {
   "cell_type": "code",
   "execution_count": null,
   "metadata": {},
   "outputs": [],
   "source": []
  }
 ],
 "metadata": {
  "kernelspec": {
   "display_name": "Python 3",
   "language": "python",
   "name": "python3"
  },
  "language_info": {
   "codemirror_mode": {
    "name": "ipython",
    "version": 3
   },
   "file_extension": ".py",
   "mimetype": "text/x-python",
   "name": "python",
   "nbconvert_exporter": "python",
   "pygments_lexer": "ipython3",
   "version": "3.7.4"
  }
 },
 "nbformat": 4,
 "nbformat_minor": 4
}
