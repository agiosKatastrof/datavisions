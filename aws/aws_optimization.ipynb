{
 "cells": [
  {
   "cell_type": "code",
   "execution_count": 185,
   "metadata": {},
   "outputs": [],
   "source": [
    "import pandas as pd\n",
    "import numpy as np\n",
    "import matplotlib.pyplot as plt\n",
    "import matplotlib.dates as mdates\n",
    "import csv\n",
    "import datetime as dt\n",
    "import re\n",
    "import time\n",
    "import dateutil\n",
    "\n",
    "headers = ['datetime','instanceId','maxCPUPercent']\n",
    "data = '/home/joe/data/aws/out.txt'\n",
    "df = pd.read_csv(data, names=headers)"
   ]
  },
  {
   "cell_type": "code",
   "execution_count": 186,
   "metadata": {},
   "outputs": [
    {
     "data": {
      "text/plain": [
       "instanceId\n",
       "i-089389afc8097dac4    0.501436\n",
       "i-09f0182499b5eaf27    4.235662\n",
       "i-0ca364ec6656ff517    0.514968\n",
       "Name: maxCPUPercent, dtype: float64"
      ]
     },
     "execution_count": 186,
     "metadata": {},
     "output_type": "execute_result"
    }
   ],
   "source": [
    "dfG = df.groupby('instanceId')['maxCPUPercent'].mean()\n",
    "dfG"
   ]
  },
  {
   "cell_type": "code",
   "execution_count": 187,
   "metadata": {},
   "outputs": [
    {
     "data": {
      "text/plain": [
       "array(['i-0ca364ec6656ff517', 'i-09f0182499b5eaf27',\n",
       "       'i-089389afc8097dac4'], dtype=object)"
      ]
     },
     "execution_count": 187,
     "metadata": {},
     "output_type": "execute_result"
    }
   ],
   "source": [
    "instances = df.instanceId.unique()\n",
    "instances"
   ]
  },
  {
   "cell_type": "code",
   "execution_count": 191,
   "metadata": {},
   "outputs": [
    {
     "name": "stdout",
     "output_type": "stream",
     "text": [
      "<class 'pandas.core.frame.DataFrame'>\n",
      "RangeIndex: 60 entries, 0 to 59\n",
      "Data columns (total 5 columns):\n",
      " #   Column               Non-Null Count  Dtype              \n",
      "---  ------               --------------  -----              \n",
      " 0   datetime             60 non-null     object             \n",
      " 1   i-089389afc8097dac4  60 non-null     float64            \n",
      " 2   i-09f0182499b5eaf27  60 non-null     float64            \n",
      " 3   i-0ca364ec6656ff517  60 non-null     float64            \n",
      " 4   timestamps           60 non-null     datetime64[ns, UTC]\n",
      "dtypes: datetime64[ns, UTC](1), float64(3), object(1)\n",
      "memory usage: 2.5+ KB\n"
     ]
    }
   ],
   "source": [
    "dfP = df.pivot(index=df['datetime'], columns='instanceId')['maxCPUPercent']\n",
    "dfP = dfP.fillna(0)\n",
    "dfP = dfP.reset_index()\n",
    "dfP['timestamps'] = pd.to_datetime(dfP['datetime'])\n",
    "pattern = r':00\\+00:00'\n",
    "dfP = dfP.replace(to_replace=pattern, value='', regex=True)\n",
    "dfP.head(4)\n",
    "dfP.info()"
   ]
  },
  {
   "cell_type": "code",
   "execution_count": 202,
   "metadata": {},
   "outputs": [
    {
     "data": {
      "image/png": "[encoded data removed]",
      "text/plain": [
       "<Figure size 432x288 with 1 Axes>"
      ]
     },
     "metadata": {
      "needs_background": "light"
     },
     "output_type": "display_data"
    }
   ],
   "source": [
    "datestrings = dfP['datetime'].to_list()\n",
    "dates = [dateutil.parser.parse(s) for s in datestrings]\n",
    "\n",
    "y = dfP['i-089389afc8097dac4']\n",
    "ax=plt.gca()\n",
    "ax.set_xticks(dates)\n",
    "xfmt = mdates.DateFormatter('%Y-%m-%d %H:%M')\n",
    "ax.xaxis.set_major_formatter(xfmt)\n",
    "plt.plot(dates,y, \"o-\")\n",
    "plt.show()"
   ]
  }
 ],
 "metadata": {
  "kernelspec": {
   "display_name": "Python 3",
   "language": "python",
   "name": "python3"
  },
  "language_info": {
   "codemirror_mode": {
    "name": "ipython",
    "version": 3
   },
   "file_extension": ".py",
   "mimetype": "text/x-python",
   "name": "python",
   "nbconvert_exporter": "python",
   "pygments_lexer": "ipython3",
   "version": "3.7.4"
  }
 },
 "nbformat": 4,
 "nbformat_minor": 2
}
