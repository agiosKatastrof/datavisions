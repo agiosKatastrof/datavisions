{
 "cells": [
  {
   "cell_type": "code",
   "execution_count": 2,
   "metadata": {},
   "outputs": [
    {
     "data": {
      "text/html": [
       "<div>\n",
       "<style scoped>\n",
       "    .dataframe tbody tr th:only-of-type {\n",
       "        vertical-align: middle;\n",
       "    }\n",
       "\n",
       "    .dataframe tbody tr th {\n",
       "        vertical-align: top;\n",
       "    }\n",
       "\n",
       "    .dataframe thead th {\n",
       "        text-align: right;\n",
       "    }\n",
       "</style>\n",
       "<table border=\"1\" class=\"dataframe\">\n",
       "  <thead>\n",
       "    <tr style=\"text-align: right;\">\n",
       "      <th></th>\n",
       "      <th>datetime</th>\n",
       "      <th>instanceId</th>\n",
       "      <th>maxCPUPercent</th>\n",
       "    </tr>\n",
       "  </thead>\n",
       "  <tbody>\n",
       "    <tr>\n",
       "      <th>0</th>\n",
       "      <td>2020-03-23 20:40:00+00:00</td>\n",
       "      <td>i-0ca364ec6656ff517</td>\n",
       "      <td>0.169492</td>\n",
       "    </tr>\n",
       "    <tr>\n",
       "      <th>1</th>\n",
       "      <td>2020-03-23 22:45:00+00:00</td>\n",
       "      <td>i-0ca364ec6656ff517</td>\n",
       "      <td>0.166667</td>\n",
       "    </tr>\n",
       "    <tr>\n",
       "      <th>2</th>\n",
       "      <td>2020-03-23 18:20:00+00:00</td>\n",
       "      <td>i-0ca364ec6656ff517</td>\n",
       "      <td>0.169492</td>\n",
       "    </tr>\n",
       "    <tr>\n",
       "      <th>3</th>\n",
       "      <td>2020-03-23 19:30:00+00:00</td>\n",
       "      <td>i-0ca364ec6656ff517</td>\n",
       "      <td>0.166667</td>\n",
       "    </tr>\n",
       "    <tr>\n",
       "      <th>4</th>\n",
       "      <td>2020-03-23 19:45:00+00:00</td>\n",
       "      <td>i-0ca364ec6656ff517</td>\n",
       "      <td>0.166667</td>\n",
       "    </tr>\n",
       "    <tr>\n",
       "      <th>5</th>\n",
       "      <td>2020-03-23 20:55:00+00:00</td>\n",
       "      <td>i-0ca364ec6656ff517</td>\n",
       "      <td>0.163934</td>\n",
       "    </tr>\n",
       "    <tr>\n",
       "      <th>6</th>\n",
       "      <td>2020-03-23 18:35:00+00:00</td>\n",
       "      <td>i-0ca364ec6656ff517</td>\n",
       "      <td>0.166667</td>\n",
       "    </tr>\n",
       "    <tr>\n",
       "      <th>7</th>\n",
       "      <td>2020-03-24 02:15:00+00:00</td>\n",
       "      <td>i-0ca364ec6656ff517</td>\n",
       "      <td>0.983607</td>\n",
       "    </tr>\n",
       "    <tr>\n",
       "      <th>8</th>\n",
       "      <td>2020-03-23 23:00:00+00:00</td>\n",
       "      <td>i-0ca364ec6656ff517</td>\n",
       "      <td>0.166667</td>\n",
       "    </tr>\n",
       "    <tr>\n",
       "      <th>9</th>\n",
       "      <td>2020-03-23 22:30:00+00:00</td>\n",
       "      <td>i-0ca364ec6656ff517</td>\n",
       "      <td>0.169492</td>\n",
       "    </tr>\n",
       "  </tbody>\n",
       "</table>\n",
       "</div>"
      ],
      "text/plain": [
       "                    datetime           instanceId  maxCPUPercent\n",
       "0  2020-03-23 20:40:00+00:00  i-0ca364ec6656ff517       0.169492\n",
       "1  2020-03-23 22:45:00+00:00  i-0ca364ec6656ff517       0.166667\n",
       "2  2020-03-23 18:20:00+00:00  i-0ca364ec6656ff517       0.169492\n",
       "3  2020-03-23 19:30:00+00:00  i-0ca364ec6656ff517       0.166667\n",
       "4  2020-03-23 19:45:00+00:00  i-0ca364ec6656ff517       0.166667\n",
       "5  2020-03-23 20:55:00+00:00  i-0ca364ec6656ff517       0.163934\n",
       "6  2020-03-23 18:35:00+00:00  i-0ca364ec6656ff517       0.166667\n",
       "7  2020-03-24 02:15:00+00:00  i-0ca364ec6656ff517       0.983607\n",
       "8  2020-03-23 23:00:00+00:00  i-0ca364ec6656ff517       0.166667\n",
       "9  2020-03-23 22:30:00+00:00  i-0ca364ec6656ff517       0.169492"
      ]
     },
     "execution_count": 2,
     "metadata": {},
     "output_type": "execute_result"
    }
   ],
   "source": [
    "import pandas as pd\n",
    "import numpy as np\n",
    "import matplotlib.pyplot as plt\n",
    "import matplotlib.dates as mdates\n",
    "import csv\n",
    "import datetime as dt\n",
    "import re\n",
    "import time\n",
    "import dateutil\n",
    "\n",
    "\n",
    "headers = ['datetime','instanceId','maxCPUPercent']\n",
    "data = '/home/joe/data/aws/out.txt'\n",
    "df = pd.read_csv(data, names=headers)\n",
    "df.head(10)"
   ]
  },
  {
   "cell_type": "code",
   "execution_count": 3,
   "metadata": {},
   "outputs": [
    {
     "name": "stdout",
     "output_type": "stream",
     "text": [
      "       maxCPUPercent\n",
      "count     127.000000\n",
      "mean        2.065994\n",
      "std         3.899760\n",
      "min         0.163934\n",
      "25%         0.166667\n",
      "50%         0.169492\n",
      "75%         3.333333\n",
      "max        33.166667\n",
      "instanceId\n",
      "i-089389afc8097dac4    0.501436\n",
      "i-09f0182499b5eaf27    4.235662\n",
      "i-0ca364ec6656ff517    0.514968\n",
      "Name: maxCPUPercent, dtype: float64\n",
      "2020-03-24 15:25:00+00:00\n",
      "2020-03-23 17:50:00+00:00\n"
     ]
    }
   ],
   "source": [
    "print(df.describe())\n",
    "dfG = df.groupby('instanceId')['maxCPUPercent'].mean()\n",
    "#instances = df.instanceId.unique()\n",
    "print(dfG)\n",
    "#print(instances)\n",
    "print(df['datetime'].max())\n",
    "print(df['datetime'].min())"
   ]
  },
  {
   "cell_type": "code",
   "execution_count": 4,
   "metadata": {},
   "outputs": [
    {
     "name": "stdout",
     "output_type": "stream",
     "text": [
      "<class 'pandas.core.frame.DataFrame'>\n",
      "RangeIndex: 60 entries, 0 to 59\n",
      "Data columns (total 5 columns):\n",
      " #   Column               Non-Null Count  Dtype              \n",
      "---  ------               --------------  -----              \n",
      " 0   datetime             60 non-null     object             \n",
      " 1   i-089389afc8097dac4  60 non-null     float64            \n",
      " 2   i-09f0182499b5eaf27  60 non-null     float64            \n",
      " 3   i-0ca364ec6656ff517  60 non-null     float64            \n",
      " 4   timestamps           60 non-null     datetime64[ns, UTC]\n",
      "dtypes: datetime64[ns, UTC](1), float64(3), object(1)\n",
      "memory usage: 2.5+ KB\n"
     ]
    }
   ],
   "source": [
    "dfP = df.pivot(index=df['datetime'], columns='instanceId')['maxCPUPercent']\n",
    "dfP = dfP.fillna(0)\n",
    "dfP = dfP.reset_index()\n",
    "dfP['timestamps'] = pd.to_datetime(dfP['datetime'])\n",
    "pattern = r':00\\+00:00'\n",
    "dfP = dfP.replace(to_replace=pattern, value='', regex=True)\n",
    "dfP.head(4)\n",
    "dfP.info()"
   ]
  },
  {
   "cell_type": "code",
   "execution_count": 6,
   "metadata": {},
   "outputs": [
    {
     "data": {
      "image/png": "[encoded data removed]",
      "text/plain": [
       "<Figure size 720x432 with 1 Axes>"
      ]
     },
     "metadata": {
      "needs_background": "light"
     },
     "output_type": "display_data"
    }
   ],
   "source": [
    "datestrings = dfP['datetime'].to_list()\n",
    "dates = [dateutil.parser.parse(s) for s in datestrings]\n",
    "\n",
    "fig = plt.figure(figsize=(10,6))\n",
    "ax=plt.gca()\n",
    "\n",
    "ax.set_title(\"AWS EC2 Utilizations\", fontsize=20)\n",
    "ax.set_ylabel('CPU Utilization Percentages', color='black',fontsize=18)\n",
    "ax.set_xlabel('Date', color='black',fontsize=18)\n",
    "#ax.set_xticks(dates)\n",
    "xfmt = mdates.DateFormatter('%m-%d')\n",
    "ax.xaxis.set_major_formatter(xfmt)\n",
    "plt.plot(dates,dfP['i-089389afc8097dac4'], color=\"blue\")\n",
    "plt.plot(dates,dfP['i-09f0182499b5eaf27'], color=\"red\")\n",
    "plt.plot(dates,dfP['i-0ca364ec6656ff517'], color=\"green\")\n",
    "plt.legend(['i-089389afc8097dac4','i-09f0182499b5eaf27','i-0ca364ec6656ff517'], fontsize=18)\n",
    "plt.show()"
   ]
  },
  {
   "cell_type": "code",
   "execution_count": null,
   "metadata": {},
   "outputs": [],
   "source": []
  }
 ],
 "metadata": {
  "kernelspec": {
   "display_name": "Python 3",
   "language": "python",
   "name": "python3"
  },
  "language_info": {
   "codemirror_mode": {
    "name": "ipython",
    "version": 3
   },
   "file_extension": ".py",
   "mimetype": "text/x-python",
   "name": "python",
   "nbconvert_exporter": "python",
   "pygments_lexer": "ipython3",
   "version": "3.7.4"
  }
 },
 "nbformat": 4,
 "nbformat_minor": 2
}
